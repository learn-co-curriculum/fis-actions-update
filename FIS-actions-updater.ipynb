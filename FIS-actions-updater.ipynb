{
 "cells": [
  {
   "cell_type": "code",
   "execution_count": 2,
   "metadata": {},
   "outputs": [],
   "source": [
    "import git\n",
    "import shutil\n",
    "import os\n",
    "import requests\n",
    "import pandas as pd\n",
    "\n"
   ]
  },
  {
   "cell_type": "code",
   "execution_count": 2,
   "metadata": {},
   "outputs": [],
   "source": [
    "def check_contents(repo_location):\n",
    "    \"\"\"\n",
    "    Checks the contents of the repository.\n",
    "\n",
    "    Args:\n",
    "        repo_location (str): Full repository URL.\n",
    "\n",
    "    Returns:\n",
    "        bool: True if the repository contains 'splitter.py'.\n",
    "    \"\"\"\n",
    "    owner = 'learn-co-curriculum'\n",
    "    repo_name = repo_location.split('/')[-1]\n",
    "    api_url = f'https://api.github.com/repos/{owner}/{repo_name}/contents?ref=curriculum'\n",
    "    print(f'Checking contents in {api_url}')\n",
    "    MY_TOKEN = os.getenv('GITHUB_TOKEN')\n",
    "    headers = {'Authorization': f'Bearer {MY_TOKEN}'}\n",
    "    response = requests.get(api_url, headers=headers).json()\n",
    "    list_of_contents = []\n",
    "    for item in response:\n",
    "        list_of_contents.append(item['name'])\n",
    "    return 'splitter.py' in list_of_contents"
   ]
  },
  {
   "cell_type": "code",
   "execution_count": 3,
   "metadata": {},
   "outputs": [],
   "source": [
    "def check_branch(repo_location):\n",
    "    \"\"\"Checks the repository for a curriculum branch which is necessary for the github actions to function\n",
    "\n",
    "    Args:\n",
    "        repo_location (URL): full repository URL\n",
    "\n",
    "    Returns:\n",
    "        bool: True if the repository contains a curriculum branch\n",
    "    \"\"\"\n",
    "    owner = 'learn-co-curriculum'\n",
    "    repo_name = repo_location.split('/')[-1]\n",
    "    api_url = f'https://api.github.com/repos/{owner}/{repo_name}/branches'\n",
    "    print(f'Checking branches in {api_url}')\n",
    "    MY_TOKEN = os.getenv('GITHUB_TOKEN')\n",
    "    headers = {'Authorization': f'Bearer {MY_TOKEN}'}\n",
    "    response = requests.get(api_url, headers=headers).json()\n",
    "    branch_list = []\n",
    "    for branch in response:\n",
    "        branch_list.append(branch['name'])\n",
    "        \n",
    "    return 'curriculum' in branch_list"
   ]
  },
  {
   "cell_type": "code",
   "execution_count": 4,
   "metadata": {},
   "outputs": [],
   "source": [
    "def add_files_to_repo(repo_location):\n",
    "    \"\"\"\n",
    "    Adds files to the repository.\n",
    "\n",
    "    Args:\n",
    "        repo_location (str): Full repository URL.\n",
    "\n",
    "    Raises:\n",
    "        ValueError: If the repository URL is invalid.\n",
    "    \"\"\"\n",
    "        \n",
    "    if check_branch(repo_location):\n",
    "        owner = 'learn-co-curriculum'\n",
    "        repo_name = repo_location.split('/')[-1]\n",
    "        api_url = f'https://api.github.com/repos/{owner}/{repo_name}'\n",
    "        print(f'Working on {api_url}')\n",
    "        MY_TOKEN = os.getenv('GITHUB_TOKEN')\n",
    "        headers = {'Authorization': f'Bearer {MY_TOKEN}'}\n",
    "        response = requests.get(api_url, headers=headers).json()\n",
    "        repo_path = os.path.join(os.getcwd(), repo_name)\n",
    "        workflows_path = os.path.join(repo_path, '.github', 'workflows')\n",
    "        if check_contents(repo_location):\n",
    "            print('This repo already has the actions files')\n",
    "        \n",
    "        else:\n",
    "            if 'ssh_url' in response.keys():\n",
    "                repo = git.Repo.clone_from(response['ssh_url'], repo_path)\n",
    "                repo.git.checkout('curriculum')\n",
    "                os.makedirs(workflows_path, exist_ok=True)\n",
    "                yaml_file = 'branch_split.yml'\n",
    "                script_file = 'splitter.py'\n",
    "                yaml_destination = os.path.join(repo_path, '.github', 'workflows', 'branch_split.yml')\n",
    "                script_destination = os.path.join(repo_path, 'splitter.py')\n",
    "                shutil.copyfile(yaml_file, yaml_destination)\n",
    "                shutil.copyfile(script_file, script_destination)\n",
    "                repo.git.add(\".\")\n",
    "                repo.git.commit(m=\"Adding files via FIS actions updater script\")\n",
    "                repo.git.push()\n",
    "                print(f'Added files to {repo_location}.')\n",
    "                shutil.rmtree(repo_path) \n",
    "                print('Cleaning up directory tree')\n",
    "            else:\n",
    "                print(f'{api_url} is not a valid url')            \n",
    "    \n",
    "    else:\n",
    "        print('This repo has no curriculum branch')\n",
    "\n"
   ]
  },
  {
   "attachments": {},
   "cell_type": "markdown",
   "metadata": {},
   "source": [
    "## Run all above cells to load all necessary dependencies\n",
    "\n",
    "Replace the URL in the `add_files_to_repo` function with the URL you wish to update with the actions files."
   ]
  },
  {
   "cell_type": "code",
   "execution_count": null,
   "metadata": {},
   "outputs": [],
   "source": [
    "\"Replace the URL below with the URL you wish to add files to\"\n",
    "\n",
    "add_files_to_repo(\"https://github.com/learn-co-curriculum/dsc-structure-of-this-course\")"
   ]
  },
  {
   "cell_type": "code",
   "execution_count": null,
   "metadata": {},
   "outputs": [],
   "source": [
    "\"The script below will parse a list of phases and add the necessary files to each repository\"\n",
    "for phase, course in list_of_phases:\n",
    "    os.system(f\"github-to-canvas --query {course} > phase_{phase}_canvas.yml\")\n",
    "    os.system(f\"github-to-canvas --map phase_{phase}_canvas.yml --urls-only > phase_{phase}_canvas.csv\")\n",
    "    df = pd.read_csv(f'phase_{phase}_canvas.csv')\n",
    "    df.columns = ['url']\n",
    "    \n",
    "    completed = []\n",
    "    for i, item in df.iterrows():\n",
    "        add_files_to_repo(item['url'])\n",
    "        completed.append(i)\n",
    "    df = df.drop(df.index[completed])"
   ]
  },
  {
   "cell_type": "code",
   "execution_count": null,
   "metadata": {},
   "outputs": [],
   "source": []
  }
 ],
 "metadata": {
  "kernelspec": {
   "display_name": "learn-env",
   "language": "python",
   "name": "python3"
  },
  "language_info": {
   "codemirror_mode": {
    "name": "ipython",
    "version": 3
   },
   "file_extension": ".py",
   "mimetype": "text/x-python",
   "name": "python",
   "nbconvert_exporter": "python",
   "pygments_lexer": "ipython3",
   "version": "3.8.5"
  },
  "orig_nbformat": 4
 },
 "nbformat": 4,
 "nbformat_minor": 2
}
